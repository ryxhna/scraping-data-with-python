{
  "nbformat": 4,
  "nbformat_minor": 0,
  "metadata": {
    "colab": {
      "provenance": []
    },
    "kernelspec": {
      "name": "python3",
      "display_name": "Python 3"
    },
    "language_info": {
      "name": "python"
    }
  },
  "cells": [
    {
      "cell_type": "markdown",
      "source": [
        "## Scraping Data with Python"
      ],
      "metadata": {
        "id": "WLGaH3KFNLzi"
      }
    },
    {
      "cell_type": "code",
      "execution_count": 16,
      "metadata": {
        "id": "1Eq943ShCs7G"
      },
      "outputs": [],
      "source": [
        "# Import packages\n",
        "import requests\n",
        "from bs4 import BeautifulSoup\n",
        "import pandas as pd"
      ]
    },
    {
      "cell_type": "code",
      "source": [
        "# Import data\n",
        "url = 'https://www.worldometers.info/world-population/population-by-country/'\n",
        "\n",
        "response = requests.get(url)\n",
        "soup = BeautifulSoup(response.text, 'html.parser')"
      ],
      "metadata": {
        "id": "ZUOUwlFoDH-E"
      },
      "execution_count": 17,
      "outputs": []
    },
    {
      "cell_type": "markdown",
      "source": [
        "Menggunakan **library requst** untuk mengirimkan HTTP GET kepada url yang ditentukan dan library **BeautifulSoup** untuk menguraikan konten halaman web."
      ],
      "metadata": {
        "id": "XGqbHHetFijS"
      }
    },
    {
      "cell_type": "code",
      "source": [
        "rows = soup.find('table', {'id':'example2'}).find('tbody').find_all('tr')"
      ],
      "metadata": {
        "id": "WYjgAJLtDJsa"
      },
      "execution_count": 18,
      "outputs": []
    },
    {
      "cell_type": "markdown",
      "source": [
        "### Membuat daftar (list)\n",
        "*  mencari elemen `table` (tabel utama yang ingin kita scrap) dengan atribut `id` yang bernilai `example2`\n",
        "*  dilakukan pencarian elemen untuk mengelompokkan isi tabel yaitu `tbody`\n",
        "*  mencari semua elemen baris `tr` didalam `tbody` dengan metode `find_all()`, dimana semua baris didalam tabel akan ditemukan\n",
        "*  membuat daftar(list) kosong dengan nama `countries_list` untuk menyimpan scraping data yang berupa tabel.\n"
      ],
      "metadata": {
        "id": "ynhU2GIDGu8w"
      }
    },
    {
      "cell_type": "code",
      "source": [
        "print(len(rows))"
      ],
      "metadata": {
        "colab": {
          "base_uri": "https://localhost:8080/"
        },
        "id": "HbKvzyWID0Bb",
        "outputId": "90793dd9-1709-43d1-dab0-5b70614ebdee"
      },
      "execution_count": 19,
      "outputs": [
        {
          "output_type": "stream",
          "name": "stdout",
          "text": [
            "235\n"
          ]
        }
      ]
    },
    {
      "cell_type": "code",
      "source": [
        "countries_list = []"
      ],
      "metadata": {
        "id": "XtYPKakcEJKR"
      },
      "execution_count": 20,
      "outputs": []
    },
    {
      "cell_type": "markdown",
      "source": [],
      "metadata": {
        "id": "eMmxdI9zJmDP"
      }
    },
    {
      "cell_type": "code",
      "source": [
        "for row in rows:\n",
        "    dic = {}\n",
        "\n",
        "    dic['Country'] = row.find_all('td')[1].text\n",
        "    dic['Population 2020'] = row.find_all('td')[2].text\n",
        "    dic['Yearly Change'] = row.find_all('td')[3].text\n",
        "    dic['Net Change'] = row.find_all('td')[4].text\n",
        "    dic['Density'] = row.find_all('td')[5].text\n",
        "    dic['Land Area'] = row.find_all('td')[6].text\n",
        "    dic['Migrant'] = row.find_all('td')[7].text\n",
        "\n",
        "\n",
        "    countries_list.append(dic)"
      ],
      "metadata": {
        "id": "COyozafRD5bu"
      },
      "execution_count": 21,
      "outputs": []
    },
    {
      "cell_type": "markdown",
      "source": [
        "`countries_list.append(dic)` berfungsi untuk menambahkan data dari `dic` ke kedalam `countries_list` yang akan merepresentasikan scraping data secara keseluruhan\n",
        "\n",
        "\n",
        "---"
      ],
      "metadata": {
        "id": "fUhsqq7GJGEO"
      }
    },
    {
      "cell_type": "markdown",
      "source": [
        "### DataFrame\n",
        "Membuat DataFrame dari `countries_list` yang melibatkan fungsi library pandas dengan nama `df_countries_list` (digunakan kembali untuk menampilkan scraping data)\n"
      ],
      "metadata": {
        "id": "J9BxwyW6K5OW"
      }
    },
    {
      "cell_type": "code",
      "source": [
        "df_countries_list = pd.DataFrame(countries_list)\n",
        "df_countries_list"
      ],
      "metadata": {
        "colab": {
          "base_uri": "https://localhost:8080/",
          "height": 423
        },
        "id": "ktkEQf8hD9fm",
        "outputId": "033221d9-63ee-40e3-c682-c89321adbc98"
      },
      "execution_count": 22,
      "outputs": [
        {
          "output_type": "execute_result",
          "data": {
            "text/plain": [
              "              Country Population 2020 Yearly Change  Net Change Density  \\\n",
              "0               China   1,439,323,776        0.39 %   5,540,090     153   \n",
              "1               India   1,380,004,385        0.99 %  13,586,631     464   \n",
              "2       United States     331,002,651        0.59 %   1,937,734      36   \n",
              "3           Indonesia     273,523,615        1.07 %   2,898,047     151   \n",
              "4            Pakistan     220,892,340        2.00 %   4,327,022     287   \n",
              "..                ...             ...           ...         ...     ...   \n",
              "230        Montserrat           4,992        0.06 %           3      50   \n",
              "231  Falkland Islands           3,480        3.05 %         103       0   \n",
              "232              Niue           1,626        0.68 %          11       6   \n",
              "233           Tokelau           1,357        1.27 %          17     136   \n",
              "234          Holy See             801        0.25 %           2   2,003   \n",
              "\n",
              "     Land Area   Migrant  \n",
              "0    9,388,211  -348,399  \n",
              "1    2,973,190  -532,687  \n",
              "2    9,147,420   954,806  \n",
              "3    1,811,570   -98,955  \n",
              "4      770,880  -233,379  \n",
              "..         ...       ...  \n",
              "230        100            \n",
              "231     12,170            \n",
              "232        260            \n",
              "233         10            \n",
              "234          0            \n",
              "\n",
              "[235 rows x 7 columns]"
            ],
            "text/html": [
              "\n",
              "  <div id=\"df-6bafed58-f193-4d89-88cc-2c15f23be29f\">\n",
              "    <div class=\"colab-df-container\">\n",
              "      <div>\n",
              "<style scoped>\n",
              "    .dataframe tbody tr th:only-of-type {\n",
              "        vertical-align: middle;\n",
              "    }\n",
              "\n",
              "    .dataframe tbody tr th {\n",
              "        vertical-align: top;\n",
              "    }\n",
              "\n",
              "    .dataframe thead th {\n",
              "        text-align: right;\n",
              "    }\n",
              "</style>\n",
              "<table border=\"1\" class=\"dataframe\">\n",
              "  <thead>\n",
              "    <tr style=\"text-align: right;\">\n",
              "      <th></th>\n",
              "      <th>Country</th>\n",
              "      <th>Population 2020</th>\n",
              "      <th>Yearly Change</th>\n",
              "      <th>Net Change</th>\n",
              "      <th>Density</th>\n",
              "      <th>Land Area</th>\n",
              "      <th>Migrant</th>\n",
              "    </tr>\n",
              "  </thead>\n",
              "  <tbody>\n",
              "    <tr>\n",
              "      <th>0</th>\n",
              "      <td>China</td>\n",
              "      <td>1,439,323,776</td>\n",
              "      <td>0.39 %</td>\n",
              "      <td>5,540,090</td>\n",
              "      <td>153</td>\n",
              "      <td>9,388,211</td>\n",
              "      <td>-348,399</td>\n",
              "    </tr>\n",
              "    <tr>\n",
              "      <th>1</th>\n",
              "      <td>India</td>\n",
              "      <td>1,380,004,385</td>\n",
              "      <td>0.99 %</td>\n",
              "      <td>13,586,631</td>\n",
              "      <td>464</td>\n",
              "      <td>2,973,190</td>\n",
              "      <td>-532,687</td>\n",
              "    </tr>\n",
              "    <tr>\n",
              "      <th>2</th>\n",
              "      <td>United States</td>\n",
              "      <td>331,002,651</td>\n",
              "      <td>0.59 %</td>\n",
              "      <td>1,937,734</td>\n",
              "      <td>36</td>\n",
              "      <td>9,147,420</td>\n",
              "      <td>954,806</td>\n",
              "    </tr>\n",
              "    <tr>\n",
              "      <th>3</th>\n",
              "      <td>Indonesia</td>\n",
              "      <td>273,523,615</td>\n",
              "      <td>1.07 %</td>\n",
              "      <td>2,898,047</td>\n",
              "      <td>151</td>\n",
              "      <td>1,811,570</td>\n",
              "      <td>-98,955</td>\n",
              "    </tr>\n",
              "    <tr>\n",
              "      <th>4</th>\n",
              "      <td>Pakistan</td>\n",
              "      <td>220,892,340</td>\n",
              "      <td>2.00 %</td>\n",
              "      <td>4,327,022</td>\n",
              "      <td>287</td>\n",
              "      <td>770,880</td>\n",
              "      <td>-233,379</td>\n",
              "    </tr>\n",
              "    <tr>\n",
              "      <th>...</th>\n",
              "      <td>...</td>\n",
              "      <td>...</td>\n",
              "      <td>...</td>\n",
              "      <td>...</td>\n",
              "      <td>...</td>\n",
              "      <td>...</td>\n",
              "      <td>...</td>\n",
              "    </tr>\n",
              "    <tr>\n",
              "      <th>230</th>\n",
              "      <td>Montserrat</td>\n",
              "      <td>4,992</td>\n",
              "      <td>0.06 %</td>\n",
              "      <td>3</td>\n",
              "      <td>50</td>\n",
              "      <td>100</td>\n",
              "      <td></td>\n",
              "    </tr>\n",
              "    <tr>\n",
              "      <th>231</th>\n",
              "      <td>Falkland Islands</td>\n",
              "      <td>3,480</td>\n",
              "      <td>3.05 %</td>\n",
              "      <td>103</td>\n",
              "      <td>0</td>\n",
              "      <td>12,170</td>\n",
              "      <td></td>\n",
              "    </tr>\n",
              "    <tr>\n",
              "      <th>232</th>\n",
              "      <td>Niue</td>\n",
              "      <td>1,626</td>\n",
              "      <td>0.68 %</td>\n",
              "      <td>11</td>\n",
              "      <td>6</td>\n",
              "      <td>260</td>\n",
              "      <td></td>\n",
              "    </tr>\n",
              "    <tr>\n",
              "      <th>233</th>\n",
              "      <td>Tokelau</td>\n",
              "      <td>1,357</td>\n",
              "      <td>1.27 %</td>\n",
              "      <td>17</td>\n",
              "      <td>136</td>\n",
              "      <td>10</td>\n",
              "      <td></td>\n",
              "    </tr>\n",
              "    <tr>\n",
              "      <th>234</th>\n",
              "      <td>Holy See</td>\n",
              "      <td>801</td>\n",
              "      <td>0.25 %</td>\n",
              "      <td>2</td>\n",
              "      <td>2,003</td>\n",
              "      <td>0</td>\n",
              "      <td></td>\n",
              "    </tr>\n",
              "  </tbody>\n",
              "</table>\n",
              "<p>235 rows × 7 columns</p>\n",
              "</div>\n",
              "      <button class=\"colab-df-convert\" onclick=\"convertToInteractive('df-6bafed58-f193-4d89-88cc-2c15f23be29f')\"\n",
              "              title=\"Convert this dataframe to an interactive table.\"\n",
              "              style=\"display:none;\">\n",
              "        \n",
              "  <svg xmlns=\"http://www.w3.org/2000/svg\" height=\"24px\"viewBox=\"0 0 24 24\"\n",
              "       width=\"24px\">\n",
              "    <path d=\"M0 0h24v24H0V0z\" fill=\"none\"/>\n",
              "    <path d=\"M18.56 5.44l.94 2.06.94-2.06 2.06-.94-2.06-.94-.94-2.06-.94 2.06-2.06.94zm-11 1L8.5 8.5l.94-2.06 2.06-.94-2.06-.94L8.5 2.5l-.94 2.06-2.06.94zm10 10l.94 2.06.94-2.06 2.06-.94-2.06-.94-.94-2.06-.94 2.06-2.06.94z\"/><path d=\"M17.41 7.96l-1.37-1.37c-.4-.4-.92-.59-1.43-.59-.52 0-1.04.2-1.43.59L10.3 9.45l-7.72 7.72c-.78.78-.78 2.05 0 2.83L4 21.41c.39.39.9.59 1.41.59.51 0 1.02-.2 1.41-.59l7.78-7.78 2.81-2.81c.8-.78.8-2.07 0-2.86zM5.41 20L4 18.59l7.72-7.72 1.47 1.35L5.41 20z\"/>\n",
              "  </svg>\n",
              "      </button>\n",
              "      \n",
              "  <style>\n",
              "    .colab-df-container {\n",
              "      display:flex;\n",
              "      flex-wrap:wrap;\n",
              "      gap: 12px;\n",
              "    }\n",
              "\n",
              "    .colab-df-convert {\n",
              "      background-color: #E8F0FE;\n",
              "      border: none;\n",
              "      border-radius: 50%;\n",
              "      cursor: pointer;\n",
              "      display: none;\n",
              "      fill: #1967D2;\n",
              "      height: 32px;\n",
              "      padding: 0 0 0 0;\n",
              "      width: 32px;\n",
              "    }\n",
              "\n",
              "    .colab-df-convert:hover {\n",
              "      background-color: #E2EBFA;\n",
              "      box-shadow: 0px 1px 2px rgba(60, 64, 67, 0.3), 0px 1px 3px 1px rgba(60, 64, 67, 0.15);\n",
              "      fill: #174EA6;\n",
              "    }\n",
              "\n",
              "    [theme=dark] .colab-df-convert {\n",
              "      background-color: #3B4455;\n",
              "      fill: #D2E3FC;\n",
              "    }\n",
              "\n",
              "    [theme=dark] .colab-df-convert:hover {\n",
              "      background-color: #434B5C;\n",
              "      box-shadow: 0px 1px 3px 1px rgba(0, 0, 0, 0.15);\n",
              "      filter: drop-shadow(0px 1px 2px rgba(0, 0, 0, 0.3));\n",
              "      fill: #FFFFFF;\n",
              "    }\n",
              "  </style>\n",
              "\n",
              "      <script>\n",
              "        const buttonEl =\n",
              "          document.querySelector('#df-6bafed58-f193-4d89-88cc-2c15f23be29f button.colab-df-convert');\n",
              "        buttonEl.style.display =\n",
              "          google.colab.kernel.accessAllowed ? 'block' : 'none';\n",
              "\n",
              "        async function convertToInteractive(key) {\n",
              "          const element = document.querySelector('#df-6bafed58-f193-4d89-88cc-2c15f23be29f');\n",
              "          const dataTable =\n",
              "            await google.colab.kernel.invokeFunction('convertToInteractive',\n",
              "                                                     [key], {});\n",
              "          if (!dataTable) return;\n",
              "\n",
              "          const docLinkHtml = 'Like what you see? Visit the ' +\n",
              "            '<a target=\"_blank\" href=https://colab.research.google.com/notebooks/data_table.ipynb>data table notebook</a>'\n",
              "            + ' to learn more about interactive tables.';\n",
              "          element.innerHTML = '';\n",
              "          dataTable['output_type'] = 'display_data';\n",
              "          await google.colab.output.renderOutput(dataTable, element);\n",
              "          const docLink = document.createElement('div');\n",
              "          docLink.innerHTML = docLinkHtml;\n",
              "          element.appendChild(docLink);\n",
              "        }\n",
              "      </script>\n",
              "    </div>\n",
              "  </div>\n",
              "  "
            ]
          },
          "metadata": {},
          "execution_count": 22
        }
      ]
    },
    {
      "cell_type": "markdown",
      "source": [
        "### Optional\n",
        "Membuat dataset kedalam file excel\n",
        "*  Menulis data ke dalam file Excel dalam format `xlsx`\n",
        "*  Menulis DataFrame ke dalam file Excel dengan nama `Countries_Data.xlsx`. Argumen index=False digunakan untuk menghilangkan penulisan indeks baris dalam DataFrame ke file Excel.\n",
        "\n"
      ],
      "metadata": {
        "id": "FB689GEYOVYK"
      }
    },
    {
      "cell_type": "code",
      "source": [
        "writer = pd.ExcelWriter('Countries_Data.xlsx')"
      ],
      "metadata": {
        "id": "hC07UP1SEOIE"
      },
      "execution_count": 23,
      "outputs": []
    },
    {
      "cell_type": "code",
      "source": [
        "df_countries_list.to_excel('Countries_Data.xlsx', index=False)\n",
        "df_countries_list.to_csv('Countries_Data.csv', index=False)"
      ],
      "metadata": {
        "id": "7nA2CaviEQyV"
      },
      "execution_count": 24,
      "outputs": []
    }
  ]
}